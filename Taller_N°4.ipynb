{
  "nbformat": 4,
  "nbformat_minor": 0,
  "metadata": {
    "colab": {
      "provenance": [],
      "authorship_tag": "ABX9TyM2g/2sTwTMQjZKr4zADJNF",
      "include_colab_link": true
    },
    "kernelspec": {
      "name": "python3",
      "display_name": "Python 3"
    },
    "language_info": {
      "name": "python"
    }
  },
  "cells": [
    {
      "cell_type": "markdown",
      "metadata": {
        "id": "view-in-github",
        "colab_type": "text"
      },
      "source": [
        "<a href=\"https://colab.research.google.com/github/JoseNarvaez24/Taller_4_Condicionales_000500983/blob/main/Taller_N%C2%B04.ipynb\" target=\"_parent\"><img src=\"https://colab.research.google.com/assets/colab-badge.svg\" alt=\"Open In Colab\"/></a>"
      ]
    },
    {
      "cell_type": "markdown",
      "source": [
        "#TALLER N°4\n",
        "\n",
        "##NOMBRE: JOSE LUIS NARVAEZ ARRIETA\n",
        "\n",
        "##ID: 000500983"
      ],
      "metadata": {
        "id": "rt3_A8i8fj_f"
      }
    },
    {
      "cell_type": "markdown",
      "source": [
        "###1. Escribe un programa en Pythonque solicite al usuario ingresar una calificación numérica (de 0 a 5) y  luego  muestre  un  mensaje  que  diga  si  el  estudiante  aprobó  o  reprobó.  Utliza  una  estructura selectiva doble (if -else)."
      ],
      "metadata": {
        "id": "ZS8umEc5iJei"
      }
    },
    {
      "cell_type": "code",
      "execution_count": 14,
      "metadata": {
        "colab": {
          "base_uri": "https://localhost:8080/"
        },
        "id": "8QiP9xELfZsk",
        "outputId": "5a739cbe-556b-4eba-ea60-eb7b359d4750"
      },
      "outputs": [
        {
          "output_type": "stream",
          "name": "stdout",
          "text": [
            "Ingrese la calificacion (de 0 a 5): 5\n",
            "El estudiante aprobó\n"
          ]
        }
      ],
      "source": [
        "calificacion = float(input(\"Ingrese la calificacion (de 0 a 5): \"))\n",
        "\n",
        "if calificacion >= 0 and calificacion <= 5:\n",
        "\n",
        "  if calificacion >= 3:\n",
        "     print(\"El estudiante aprobó\")\n",
        "  else:\n",
        "     print(\"El estudiante reprobó\")\n",
        "else:\n",
        "  print(\"La calificacion ingresada no está en el rango valido (de 0 a 5)\")\n"
      ]
    },
    {
      "cell_type": "markdown",
      "source": [
        "###2. Escribe  un  programa  en Pythonque  solicite  al  usuario  ingresar  un  número  y  luego  determine  e imprima si el número es positivo, negativo o cero utlizando estructuras selecctivas doble (if -else)."
      ],
      "metadata": {
        "id": "O-YtCp8eiTwb"
      }
    },
    {
      "cell_type": "code",
      "source": [
        "numero = float(input(\"Ingrese un numero: \"))\n",
        "\n",
        "if numero > 0:\n",
        "    print(\"El numero es positivo\")\n",
        "elif numero < 0:\n",
        "    print(\" El numero es negativo\")\n",
        "else:\n",
        "    print(\"El numero es cero\")"
      ],
      "metadata": {
        "colab": {
          "base_uri": "https://localhost:8080/"
        },
        "id": "MBgpU_BxhhiU",
        "outputId": "6c1a1c83-af20-4bc2-9b29-de2b9bd6fb3d"
      },
      "execution_count": 6,
      "outputs": [
        {
          "output_type": "stream",
          "name": "stdout",
          "text": [
            "Ingrese un numero: -2\n",
            " El numero es negativo\n"
          ]
        }
      ]
    },
    {
      "cell_type": "markdown",
      "source": [
        "###3. Escribe un programa en Python que solicite al usuario ingresar una contraseña. Si la contraseña es \"python123\",  el  programa  debe  imprimir  \"Contraseña  válida\".  De  lo  contrario,  debe  imprimir \"Contraseña incorrecta\". UDliza una estructura selecDva doble (if -else)."
      ],
      "metadata": {
        "id": "qpGoDfbqkHof"
      }
    },
    {
      "cell_type": "code",
      "source": [
        "contrasena_ingresada = input(\"Ingrese la contraseña: \")\n",
        "\n",
        "contrasena_valida = \"python123\"\n",
        "\n",
        "if contrasena_ingresada == contrasena_valida:\n",
        "    print(\"Contraseña válida\")\n",
        "else:\n",
        "    print(\"Contraseña incorrecta\")\n"
      ],
      "metadata": {
        "colab": {
          "base_uri": "https://localhost:8080/"
        },
        "id": "6hbSYQ7ZkKfg",
        "outputId": "9eaff791-bad9-4c80-9ff7-08621d6f690b"
      },
      "execution_count": 7,
      "outputs": [
        {
          "output_type": "stream",
          "name": "stdout",
          "text": [
            "Ingrese la contraseña: python123\n",
            "Contraseña válida\n"
          ]
        }
      ]
    },
    {
      "cell_type": "markdown",
      "source": [
        "###4. Escribe un programa en Pythonque solicite al usuario ingresar un número y determine e imprima si el número es par o impar utilizando una estructura selectiva doble (if -else)."
      ],
      "metadata": {
        "id": "5o0C8UvOlMPL"
      }
    },
    {
      "cell_type": "code",
      "source": [
        "numero = int(input(\"Ingrese un número: \"))\n",
        "\n",
        "if numero % 2 == 0:\n",
        "    print(\"El número es par.\")\n",
        "\n",
        "else:\n",
        "    print(\"El número es impar.\")\n"
      ],
      "metadata": {
        "colab": {
          "base_uri": "https://localhost:8080/"
        },
        "id": "yEX2KQTflYDO",
        "outputId": "23aa3518-4ea5-4496-efb9-951645958e58"
      },
      "execution_count": 12,
      "outputs": [
        {
          "output_type": "stream",
          "name": "stdout",
          "text": [
            "Ingrese un número: 24\n",
            "El número es par.\n"
          ]
        }
      ]
    },
    {
      "cell_type": "markdown",
      "source": [
        "###5. Escribe un programa en Pythonque solicite al usuario ingresar cinco números y luego determine e imprima cuál de los cinco números es mayor utilizando estructuras selectivas doble (if -else)."
      ],
      "metadata": {
        "id": "YnPnaUNqmEhk"
      }
    },
    {
      "cell_type": "code",
      "source": [
        "numeros = []\n",
        "\n",
        "for i in range(5):\n",
        "    numero = float(input(f\"Ingrese el número {i+1}: \"))\n",
        "    numeros.append(numero)\n",
        "\n",
        "mayor = numeros[0]\n",
        "\n",
        "for numero in numeros:\n",
        "    if numero > mayor:\n",
        "        mayor = numero\n",
        "\n",
        "print(f\"El número mayor es: {mayor}\")\n"
      ],
      "metadata": {
        "colab": {
          "base_uri": "https://localhost:8080/"
        },
        "id": "c6WK7-Vsl2Tm",
        "outputId": "2077731a-3237-42f0-dadb-a1ca22585119"
      },
      "execution_count": 15,
      "outputs": [
        {
          "output_type": "stream",
          "name": "stdout",
          "text": [
            "Ingrese el número 1: 2\n",
            "Ingrese el número 2: 4\n",
            "Ingrese el número 3: 8\n",
            "Ingrese el número 4: 9\n",
            "Ingrese el número 5: 24\n",
            "El número mayor es: 24.0\n"
          ]
        }
      ]
    },
    {
      "cell_type": "markdown",
      "source": [
        "###6. Escribe un programa en Python que solicite al usuario ingresar una edad y determine e imprima en qué categoría  se  encuentra  la  persona:  \"Niño\"  (0-12  años),  \"Adolescente\"  (13-19  años),  \"Adulto\" (20-64 años) o \"Adulto Mayor\" (65 o más años).\n",
        "\n"
      ],
      "metadata": {
        "id": "o9AEW_kfmzHa"
      }
    },
    {
      "cell_type": "code",
      "source": [
        "edad = int(input(\"Ingrese su edad: \"))\n",
        "\n",
        "if edad >= 0 and edad <= 12:\n",
        "    categoria = \"Niño\"\n",
        "elif edad >= 13 and edad <= 19:\n",
        "    categoria = \"Adolescente\"\n",
        "elif edad >= 20 and edad <= 64:\n",
        "    categoria = \"Adulto\"\n",
        "else:\n",
        "    categoria = \"Adulto Mayor\"\n",
        "\n",
        "print(f\"La persona se encuentra en la categoría de: {categoria}\")\n"
      ],
      "metadata": {
        "colab": {
          "base_uri": "https://localhost:8080/"
        },
        "id": "-gFlAwYOnDZm",
        "outputId": "29bf27a4-c0ef-485f-da57-72eb05dff953"
      },
      "execution_count": 16,
      "outputs": [
        {
          "output_type": "stream",
          "name": "stdout",
          "text": [
            "Ingrese su edad: 19\n",
            "La persona se encuentra en la categoría de: Adolescente\n"
          ]
        }
      ]
    }
  ]
}